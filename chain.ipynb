{
 "cells": [
  {
   "cell_type": "code",
   "execution_count": 1,
   "metadata": {},
   "outputs": [],
   "source": [
    "from typing import TypedDict\n",
    "\n",
    "class State(TypedDict):\n",
    "    graph_state: str"
   ]
  },
  {
   "cell_type": "code",
   "execution_count": 2,
   "metadata": {},
   "outputs": [],
   "source": [
    "def node_1(state):\n",
    "    print(\"----Node 1----\")\n",
    "    return {\"graph_state\": state['graph_state'] +\"I am \"}\n",
    "\n",
    "def node_2(state):\n",
    "    print(\"----Node 2----\")\n",
    "    return {\"graph_state\": state['graph_state'] +\" happy!\"}\n",
    "\n",
    "def node_3(state):\n",
    "    print(\"----Node 3----\")\n",
    "    return {\"graph_state\": state['graph_state'] +\" sad!\"}"
   ]
  },
  {
   "cell_type": "code",
   "execution_count": 3,
   "metadata": {},
   "outputs": [],
   "source": [
    "import random\n",
    "from typing import Literal\n",
    "\n",
    "def decide_mood(state) -> Literal[\"node_2\", \"node_3\"]:\n",
    "    user_input = state['graph_state']\n",
    "\n",
    "    if random.random() < 0.5:\n",
    "        return \"node_2\"\n",
    "    return \"node_3\""
   ]
  },
  {
   "cell_type": "code",
   "execution_count": 4,
   "metadata": {},
   "outputs": [
    {
     "data": {
      "image/png": "[encoded data removed]",
      "text/plain": [
       "<IPython.core.display.Image object>"
      ]
     },
     "metadata": {},
     "output_type": "display_data"
    }
   ],
   "source": [
    "from IPython.display import Image, display\n",
    "from langgraph.graph import StateGraph, START, END\n",
    "\n",
    "# build graph\n",
    "builder = StateGraph(State)\n",
    "builder.add_node(\"node_1\", node_1)\n",
    "builder.add_node(\"node_2\", node_2)\n",
    "builder.add_node(\"node_3\", node_3)\n",
    "\n",
    "# Logic\n",
    "builder.add_edge(START, \"node_1\")\n",
    "builder.add_conditional_edges(\"node_1\", decide_mood)\n",
    "builder.add_edge(\"node_2\", END)\n",
    "builder.add_edge(\"node_3\", END)\n",
    "\n",
    "# add\n",
    "graph = builder.compile()\n",
    "\n",
    "# view graph\n",
    "display(Image(graph.get_graph().draw_mermaid_png()))"
   ]
  },
  {
   "cell_type": "code",
   "execution_count": 5,
   "metadata": {},
   "outputs": [
    {
     "name": "stdout",
     "output_type": "stream",
     "text": [
      "----Node 1----\n",
      "----Node 3----\n"
     ]
    },
    {
     "data": {
      "text/plain": [
       "{'graph_state': 'Hi, I am Rohit.I am  sad!'}"
      ]
     },
     "execution_count": 5,
     "metadata": {},
     "output_type": "execute_result"
    }
   ],
   "source": [
    "graph.invoke({'graph_state': 'Hi, I am Rohit.'})"
   ]
  },
  {
   "cell_type": "code",
   "execution_count": 6,
   "metadata": {},
   "outputs": [
    {
     "name": "stdout",
     "output_type": "stream",
     "text": [
      "==================================\u001b[1m Ai Message \u001b[0m==================================\n",
      "Name: Model\n",
      "\n",
      "So you said you were researching ocean mammals?\n",
      "================================\u001b[1m Human Message \u001b[0m=================================\n",
      "Name: Lance\n",
      "\n",
      "Yes that is right\n",
      "==================================\u001b[1m Ai Message \u001b[0m==================================\n",
      "Name: Model\n",
      "\n",
      "Great would you like to learn about\n",
      "================================\u001b[1m Human Message \u001b[0m=================================\n",
      "Name: Lance\n",
      "\n",
      "I want to learn about the best place to see Orcas in the US.\n"
     ]
    }
   ],
   "source": [
    "from pprint import pprint\n",
    "from langchain_core.messages import AIMessage,HumanMessage\n",
    "\n",
    "messages = [AIMessage(content=f\"So you said you were researching ocean mammals?\", name=\"Model\")]\n",
    "messages.extend([HumanMessage(content=f\"Yes that is right\", name=\"Lance\")])\n",
    "messages.extend([AIMessage(content=f\"Great would you like to learn about\", name=\"Model\")])\n",
    "messages.extend([HumanMessage(content=f\"I want to learn about the best place to see Orcas in the US.\", name=\"Lance\")])\n",
    "\n",
    "for m in messages:\n",
    "    m.pretty_print()"
   ]
  },
  {
   "cell_type": "code",
   "execution_count": 7,
   "metadata": {},
   "outputs": [
    {
     "data": {
      "text/plain": [
       "langchain_core.messages.ai.AIMessage"
      ]
     },
     "execution_count": 7,
     "metadata": {},
     "output_type": "execute_result"
    }
   ],
   "source": [
    "from langchain_ollama import OllamaLLM\n",
    "\n",
    "llm = OllamaLLM(model=\"llama3.2\")\n",
    "\n",
    "ollama_result = AIMessage(content=llm.invoke(messages), name=\"Model\")\n",
    "type(ollama_result)"
   ]
  },
  {
   "cell_type": "code",
   "execution_count": 8,
   "metadata": {},
   "outputs": [
    {
     "data": {
      "text/plain": [
       "AIMessage(content=\"Orcas, also known as killer whales, are indeed one of the most fascinating and intelligent ocean mammals.\\n\\nWhen it comes to seeing orcas in the United States, there are several locations that offer excellent opportunities for whale watching and viewing these magnificent creatures in their natural habitat. Here are some of the best places to see orcas in the US:\\n\\n1. **Puget Sound, Washington**: This is one of the most popular destinations for orca sightings in the US. Puget Sound is home to a large population of Southern Resident orcas, which can be seen on guided tours from Seattle and surrounding areas.\\n2. **San Juan Islands, Washington**: Located off the coast of Washington state, the San Juan Islands are known for their abundant orca population. The islands offer a unique opportunity to see orcas in their natural habitat, with frequent sightings during the summer months.\\n3. **Florida Keys**: The Florida Keys are an excellent spot for spotting bottlenose dolphins and even the occasional orca. However, it's worth noting that orcas are relatively rare in these waters.\\n4. **Gulf of Alaska**: This region is known for its abundant marine life, including humpback whales, gray whales, and orcas. Guided tours from Seward or Homer can offer opportunities to see orcas in their natural habitat.\\n5. **Hawaii**: The Hawaiian Islands are home to a large population of bottlenose dolphins and occasional orca sightings. Oahu, Maui, and the Big Island are popular spots for whale watching.\\n\\nIf you're interested in seeing orcas in the US, I recommend planning a guided tour with an experienced operator who knows the best locations and times for spotting these magnificent creatures.\\n\\nWould you like to know more about:\\n\\nA) The Southern Resident orcas of Puget Sound\\nB) Tips for responsible whale watching\\nC) Other amazing marine life sightings in the US\\n\\nLet me know, and I'll be happy to help!\", additional_kwargs={}, response_metadata={}, name='Model')"
      ]
     },
     "execution_count": 8,
     "metadata": {},
     "output_type": "execute_result"
    }
   ],
   "source": [
    "ollama_result"
   ]
  },
  {
   "cell_type": "code",
   "execution_count": 9,
   "metadata": {},
   "outputs": [
    {
     "data": {
      "text/plain": [
       "{}"
      ]
     },
     "execution_count": 9,
     "metadata": {},
     "output_type": "execute_result"
    }
   ],
   "source": [
    "ollama_result.response_metadata"
   ]
  },
  {
   "cell_type": "code",
   "execution_count": 10,
   "metadata": {},
   "outputs": [
    {
     "data": {
      "text/plain": [
       "AIMessage(content='{\"function\": \"multiply\", \"args\": {\"a\": 3, \"b\": 7}}', additional_kwargs={}, response_metadata={}, name='Model')"
      ]
     },
     "execution_count": 10,
     "metadata": {},
     "output_type": "execute_result"
    }
   ],
   "source": [
    "def multiply(a: int, b: int) -> int:\n",
    "    print(\"USING FUNCTION\")\n",
    "    return a * b\n",
    "\n",
    "prompt = \"\"\"\n",
    "You are an AI that calls functions when needed.\n",
    "If a user asks for a calculation, respond in JSON format like this:\n",
    "{\"function\": \"multiply\", \"args\": {\"a\": 3, \"b\": 4}}\n",
    "\n",
    "User: What is 3 times 7?\n",
    "\"\"\"\n",
    "\n",
    "tool_call = AIMessage(content=llm.invoke(prompt), name=\"Model\")\n",
    "tool_call"
   ]
  },
  {
   "cell_type": "code",
   "execution_count": 11,
   "metadata": {},
   "outputs": [
    {
     "name": "stdout",
     "output_type": "stream",
     "text": [
      "USING FUNCTION\n",
      "Function Result: 21\n"
     ]
    }
   ],
   "source": [
    "import json\n",
    "\n",
    "try:\n",
    "    parsed = json.loads(tool_call.content)\n",
    "    if parsed.get(\"function\") == \"multiply\":\n",
    "        result = multiply(**parsed[\"args\"])\n",
    "        print(f\"Function Result: {result}\")\n",
    "    else:\n",
    "        print(\"No function call detected.\")\n",
    "except json.JSONDecodeError:\n",
    "    print(\"Invalid response format:\", tool_call)"
   ]
  },
  {
   "cell_type": "code",
   "execution_count": 12,
   "metadata": {},
   "outputs": [],
   "source": [
    "from typing import TypedDict\n",
    "from langchain_core.messages import AnyMessage\n",
    "\n",
    "class MessagesState(TypedDict):\n",
    "    messages: list[AnyMessage]"
   ]
  },
  {
   "cell_type": "code",
   "execution_count": 13,
   "metadata": {},
   "outputs": [],
   "source": [
    "from typing import Annotated\n",
    "from langchain_core.messages import AnyMessage\n",
    "from langgraph.graph.message import add_messages\n",
    "\n",
    "class MessagesState(TypedDict):\n",
    "    messages: Annotated[list[AnyMessage], add_messages]"
   ]
  },
  {
   "cell_type": "code",
   "execution_count": 14,
   "metadata": {},
   "outputs": [],
   "source": [
    "from langgraph.graph import MessagesState\n",
    "\n",
    "class State(MessagesState):\n",
    "    pass"
   ]
  },
  {
   "cell_type": "code",
   "execution_count": 15,
   "metadata": {},
   "outputs": [
    {
     "data": {
      "text/plain": [
       "[AIMessage(content='Hello! How can I assist you?', additional_kwargs={}, response_metadata={}, name='Model', id='723cd001-6dc7-4a64-8b09-eaf70bb39890'),\n",
       " HumanMessage(content=\"I'm looking for information on marine biology.\", additional_kwargs={}, response_metadata={}, name='Lance', id='f017780d-d5ad-417f-bb0d-cdb2d2a5ef68'),\n",
       " AIMessage(content='Sure, I can help with that. What specifically are you interested in?', additional_kwargs={}, response_metadata={}, name='Model', id='f24c7b48-1102-4002-a7f7-a4f9c8b64976')]"
      ]
     },
     "execution_count": 15,
     "metadata": {},
     "output_type": "execute_result"
    }
   ],
   "source": [
    "# Initial state\n",
    "initial_messages = [AIMessage(content=\"Hello! How can I assist you?\", name=\"Model\"),\n",
    "                    HumanMessage(content=\"I'm looking for information on marine biology.\", name=\"Lance\")\n",
    "                   ]\n",
    "\n",
    "# New message to add\n",
    "new_message = AIMessage(content=\"Sure, I can help with that. What specifically are you interested in?\", name=\"Model\")\n",
    "\n",
    "# Test\n",
    "add_messages(initial_messages , new_message)"
   ]
  },
  {
   "cell_type": "code",
   "execution_count": 16,
   "metadata": {},
   "outputs": [
    {
     "data": {
      "image/png": "[encoded data removed]",
      "text/plain": [
       "<IPython.core.display.Image object>"
      ]
     },
     "metadata": {},
     "output_type": "display_data"
    }
   ],
   "source": [
    "from IPython.display import Image, display\n",
    "from langgraph.graph import START, END, StateGraph\n",
    "\n",
    "def tool_calling_llm(state: dict):  \n",
    "    messages = state.get(\"messages\", [])\n",
    "    \n",
    "    if not messages:\n",
    "        return {\"messages\": [AIMessage(content=\"No valid messages found\", name=\"Model\")]}\n",
    "\n",
    "    user_message = messages[-1].content\n",
    "\n",
    "    llama_prompt = f\"\"\"\n",
    "    You are an AI that calls functions when needed. For General always introduce yourself in hi/hello based convertions as Chandler.\n",
    "    If a user asks for a calculation, respond in JSON format like this:\n",
    "    {{\"function\": \"multiply\", \"args\": {{\"a\": 3, \"b\": 4}}}}\n",
    "\n",
    "    User: {user_message}\n",
    "    AI:\n",
    "    \"\"\"\n",
    "    \n",
    "    tool_call = llm.invoke(llama_prompt)\n",
    "\n",
    "    if isinstance(tool_call, str):\n",
    "        tool_call = tool_call.strip()\n",
    "        if tool_call:\n",
    "            return {\"messages\": messages + [AIMessage(content=tool_call, name=\"Model\")]}\n",
    "    \n",
    "    return {\"messages\": messages + [AIMessage(content=\"(No response generated)\", name=\"Model\")]}\n",
    "\n",
    "\n",
    "builder = StateGraph(MessagesState)\n",
    "builder.add_node(\"tool_calling_llm\", tool_calling_llm)\n",
    "builder.add_edge(START, \"tool_calling_llm\")\n",
    "builder.add_edge(\"tool_calling_llm\", END)\n",
    "graph = builder.compile()\n",
    "\n",
    "\n",
    "display(Image(graph.get_graph().draw_mermaid_png()))"
   ]
  },
  {
   "cell_type": "code",
   "execution_count": 17,
   "metadata": {},
   "outputs": [
    {
     "name": "stdout",
     "output_type": "stream",
     "text": [
      "================================\u001b[1m Human Message \u001b[0m=================================\n",
      "\n",
      "Hello!\n",
      "==================================\u001b[1m Ai Message \u001b[0m==================================\n",
      "Name: Model\n",
      "\n",
      "Hello! I'm Chandler, your friendly AI assistant. How can I help you today?\n"
     ]
    }
   ],
   "source": [
    "messages = graph.invoke({\"messages\": [HumanMessage(content=\"Hello!\")]})\n",
    "\n",
    "for m in messages['messages']:\n",
    "    m.pretty_print()"
   ]
  },
  {
   "cell_type": "code",
   "execution_count": 18,
   "metadata": {},
   "outputs": [
    {
     "name": "stdout",
     "output_type": "stream",
     "text": [
      "================================\u001b[1m Human Message \u001b[0m=================================\n",
      "\n",
      "Multiply 29 and 39!\n",
      "==================================\u001b[1m Ai Message \u001b[0m==================================\n",
      "Name: Model\n",
      "\n",
      "Hello! I'm Chandler. How can I assist you today? You'd like to multiply 29 and 39, right?\n",
      "\n",
      "{\"function\": \"multiply\", \"args\": {\"a\": 29, \"b\": 39}}\n"
     ]
    }
   ],
   "source": [
    "messages = graph.invoke({\"messages\": [HumanMessage(content=\"Multiply 29 and 39!\")]})\n",
    "\n",
    "for m in messages['messages']:\n",
    "    m.pretty_print()"
   ]
  }
 ],
 "metadata": {
  "kernelspec": {
   "display_name": "venv",
   "language": "python",
   "name": "python3"
  },
  "language_info": {
   "codemirror_mode": {
    "name": "ipython",
    "version": 3
   },
   "file_extension": ".py",
   "mimetype": "text/x-python",
   "name": "python",
   "nbconvert_exporter": "python",
   "pygments_lexer": "ipython3",
   "version": "3.10.11"
  },
  "orig_nbformat": 4
 },
 "nbformat": 4,
 "nbformat_minor": 2
}
